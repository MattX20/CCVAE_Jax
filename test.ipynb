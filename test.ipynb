{
 "cells": [
  {
   "cell_type": "code",
   "execution_count": 97,
   "metadata": {},
   "outputs": [
    {
     "name": "stdout",
     "output_type": "stream",
     "text": [
      "The autoreload extension is already loaded. To reload it, use:\n",
      "  %reload_ext autoreload\n"
     ]
    }
   ],
   "source": [
    "%load_ext autoreload\n",
    "%autoreload 2"
   ]
  },
  {
   "cell_type": "code",
   "execution_count": 98,
   "metadata": {},
   "outputs": [],
   "source": [
    "import jax\n",
    "import jax.numpy as jnp\n",
    "from jax import random\n",
    "\n",
    "import optax\n",
    "from numpyro.infer import SVI, Trace_ELBO, TraceEnum_ELBO"
   ]
  },
  {
   "cell_type": "code",
   "execution_count": 99,
   "metadata": {},
   "outputs": [],
   "source": [
    "from src.models.M2VAE import M2VAE\n",
    "\n",
    "from src.models.encoder_decoder import MNISTEncoder, MNISTDecoder\n",
    "from src.data_loading.constants import MNIST_IMG_SHAPE\n",
    "\n",
    "from src.data_loading.loaders import get_data_loaders"
   ]
  },
  {
   "cell_type": "code",
   "execution_count": 100,
   "metadata": {},
   "outputs": [],
   "source": [
    "m2_vae = M2VAE(MNISTEncoder, MNISTDecoder, 10, 30, MNIST_IMG_SHAPE)"
   ]
  },
  {
   "cell_type": "code",
   "execution_count": 101,
   "metadata": {},
   "outputs": [],
   "source": [
    "optimizer = optax.adam(1e-3)"
   ]
  },
  {
   "cell_type": "code",
   "execution_count": 102,
   "metadata": {},
   "outputs": [],
   "source": [
    "svi = SVI(m2_vae.model, \n",
    "            m2_vae.guide, \n",
    "            optim=optimizer, \n",
    "            loss=TraceEnum_ELBO(max_plate_nesting=1)\n",
    ")"
   ]
  },
  {
   "cell_type": "code",
   "execution_count": 103,
   "metadata": {},
   "outputs": [],
   "source": [
    "state = svi.init(random.PRNGKey(0), xs=jnp.ones((1,)+MNIST_IMG_SHAPE), ys=jnp.ones((1), dtype=jnp.int32))"
   ]
  },
  {
   "cell_type": "code",
   "execution_count": 104,
   "metadata": {},
   "outputs": [
    {
     "data": {
      "text/plain": [
       "dict_keys(['decoder$params', 'encoder1$params', 'encoder2$params'])"
      ]
     },
     "execution_count": 104,
     "metadata": {},
     "output_type": "execute_result"
    }
   ],
   "source": [
    "svi.get_params(state).keys()"
   ]
  },
  {
   "cell_type": "code",
   "execution_count": 105,
   "metadata": {},
   "outputs": [
    {
     "name": "stdout",
     "output_type": "stream",
     "text": [
      "Successfully loaded MNIST dataset.\n",
      "Total num samples 60000\n",
      "Num test samples: 12000\n",
      "Num validation samples: 4800\n",
      "Num supervised samples: 8640\n",
      "Num unsupervised samples: 34560\n"
     ]
    }
   ],
   "source": [
    "seed = 42\n",
    "\n",
    "# Data loading\n",
    "img_shape, loader_dict = get_data_loaders(dataset_name=\"MNIST\", \n",
    "                                          p_test=0.2, \n",
    "                                          p_val=0.1, \n",
    "                                          p_supervised=0.2, \n",
    "                                          batch_size=2, \n",
    "                                          num_workers=0, \n",
    "                                          seed=seed)"
   ]
  },
  {
   "cell_type": "code",
   "execution_count": 106,
   "metadata": {},
   "outputs": [
    {
     "name": "stderr",
     "output_type": "stream",
     "text": [
      "c:\\Users\\Matthieu Dinot\\Desktop\\MVA\\PGM\\venv\\Lib\\site-packages\\jax\\_src\\linear_util.py:191: UserWarning: Missing a plate statement for batch dimension -1 at site 'z'. You can use `numpyro.util.format_shapes` utility to check shapes at all sites of your model.\n",
      "  ans = self.f(*args, **dict(self.params, **kwargs))\n",
      "c:\\Users\\Matthieu Dinot\\Desktop\\MVA\\PGM\\venv\\Lib\\site-packages\\jax\\_src\\linear_util.py:191: UserWarning: Missing a plate statement for batch dimension -2 at site 'z'. You can use `numpyro.util.format_shapes` utility to check shapes at all sites of your model.\n",
      "  ans = self.f(*args, **dict(self.params, **kwargs))\n",
      "c:\\Users\\Matthieu Dinot\\Desktop\\MVA\\PGM\\venv\\Lib\\site-packages\\jax\\_src\\linear_util.py:191: UserWarning: Missing a plate statement for batch dimension -1 at site 'y'. You can use `numpyro.util.format_shapes` utility to check shapes at all sites of your model.\n",
      "  ans = self.f(*args, **dict(self.params, **kwargs))\n",
      "c:\\Users\\Matthieu Dinot\\Desktop\\MVA\\PGM\\venv\\Lib\\site-packages\\jax\\_src\\linear_util.py:191: UserWarning: Missing a plate statement for batch dimension -1 at site 'y_aux'. You can use `numpyro.util.format_shapes` utility to check shapes at all sites of your model.\n",
      "  ans = self.f(*args, **dict(self.params, **kwargs))\n",
      "c:\\Users\\Matthieu Dinot\\Desktop\\MVA\\PGM\\venv\\Lib\\site-packages\\jax\\_src\\linear_util.py:191: UserWarning: Missing a plate statement for batch dimension -2 at site 'x'. You can use `numpyro.util.format_shapes` utility to check shapes at all sites of your model.\n",
      "  ans = self.f(*args, **dict(self.params, **kwargs))\n",
      "c:\\Users\\Matthieu Dinot\\Desktop\\MVA\\PGM\\venv\\Lib\\site-packages\\jax\\_src\\linear_util.py:191: UserWarning: Missing a plate statement for batch dimension -3 at site 'x'. You can use `numpyro.util.format_shapes` utility to check shapes at all sites of your model.\n",
      "  ans = self.f(*args, **dict(self.params, **kwargs))\n",
      "c:\\Users\\Matthieu Dinot\\Desktop\\MVA\\PGM\\venv\\Lib\\site-packages\\jax\\_src\\linear_util.py:191: UserWarning: Missing a plate statement for batch dimension -4 at site 'x'. You can use `numpyro.util.format_shapes` utility to check shapes at all sites of your model.\n",
      "  ans = self.f(*args, **dict(self.params, **kwargs))\n"
     ]
    },
    {
     "name": "stdout",
     "output_type": "stream",
     "text": [
      "10861.868 0.0\n"
     ]
    }
   ],
   "source": [
    "tot_loss_supervised = 0.0\n",
    "tot_loss_unsupervised = 0.0\n",
    "\n",
    "c = 0\n",
    "for is_supervised, batch in loader_dict[\"semi_supervised\"]:\n",
    "    if is_supervised:\n",
    "        x, y = batch\n",
    "        state, loss = svi.update(state, xs=x, ys=y)\n",
    "        tot_loss_supervised += loss\n",
    "    else:\n",
    "        x = batch\n",
    "        state, loss = svi.update(state, xs=x)\n",
    "        tot_loss_unsupervised += loss\n",
    "    if c > 5:\n",
    "        break\n",
    "    c+= 1\n",
    "print(tot_loss_supervised, tot_loss_unsupervised)"
   ]
  },
  {
   "cell_type": "code",
   "execution_count": null,
   "metadata": {},
   "outputs": [],
   "source": []
  }
 ],
 "metadata": {
  "kernelspec": {
   "display_name": "venv",
   "language": "python",
   "name": "python3"
  },
  "language_info": {
   "codemirror_mode": {
    "name": "ipython",
    "version": 3
   },
   "file_extension": ".py",
   "mimetype": "text/x-python",
   "name": "python",
   "nbconvert_exporter": "python",
   "pygments_lexer": "ipython3",
   "version": "3.11.5"
  }
 },
 "nbformat": 4,
 "nbformat_minor": 2
}
