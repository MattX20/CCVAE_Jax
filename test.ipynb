{
 "cells": [
  {
   "cell_type": "code",
   "execution_count": 1,
   "metadata": {},
   "outputs": [],
   "source": [
    "%load_ext autoreload\n",
    "%autoreload 2"
   ]
  },
  {
   "cell_type": "code",
   "execution_count": 22,
   "metadata": {},
   "outputs": [],
   "source": [
    "import jax\n",
    "import jax.numpy as jnp\n",
    "from jax import random\n",
    "\n",
    "import optax\n",
    "from numpyro.infer import SVI, Trace_ELBO, TraceEnum_ELBO"
   ]
  },
  {
   "cell_type": "code",
   "execution_count": 23,
   "metadata": {},
   "outputs": [],
   "source": [
    "from src.models.M2VAE import M2VAE\n",
    "\n",
    "from src.models.encoder_decoder import MNISTEncoder, MNISTDecoder\n",
    "from src.data_loading.constants import MNIST_IMG_SHAPE\n",
    "\n",
    "from src.data_loading.loaders import get_data_loaders"
   ]
  },
  {
   "cell_type": "markdown",
   "metadata": {},
   "source": [
    "# Set Random Seed"
   ]
  },
  {
   "cell_type": "code",
   "execution_count": 24,
   "metadata": {},
   "outputs": [],
   "source": [
    "seed = 42"
   ]
  },
  {
   "cell_type": "markdown",
   "metadata": {},
   "source": [
    "# Load Data"
   ]
  },
  {
   "cell_type": "code",
   "execution_count": 25,
   "metadata": {},
   "outputs": [
    {
     "name": "stdout",
     "output_type": "stream",
     "text": [
      "Successfully loaded MNIST dataset.\n",
      "Total num samples 60000\n",
      "Num test samples: 12000\n",
      "Num validation samples: 9600\n",
      "Num supervised samples: 3840\n",
      "Num unsupervised samples: 34560\n"
     ]
    }
   ],
   "source": [
    "img_shape, loader_dict, size_dict = get_data_loaders(dataset_name=\"MNIST\", \n",
    "                                          p_test=0.2, \n",
    "                                          p_val=0.2, \n",
    "                                          p_supervised=0.1, \n",
    "                                          batch_size=2, \n",
    "                                          num_workers=0, \n",
    "                                          seed=seed)\n",
    "\n",
    "scale_factor = 50 / size_dict[\"supervised\"]"
   ]
  },
  {
   "cell_type": "markdown",
   "metadata": {},
   "source": [
    "# Set up Model"
   ]
  },
  {
   "cell_type": "code",
   "execution_count": 26,
   "metadata": {},
   "outputs": [],
   "source": [
    "m2_vae = M2VAE(MNISTEncoder, MNISTDecoder, 10, 30, MNIST_IMG_SHAPE, scale_factor=scale_factor)"
   ]
  },
  {
   "cell_type": "markdown",
   "metadata": {},
   "source": [
    "# Set up Optimizer"
   ]
  },
  {
   "cell_type": "code",
   "execution_count": 27,
   "metadata": {},
   "outputs": [],
   "source": [
    "optimizer = optax.adam(1e-3)"
   ]
  },
  {
   "cell_type": "markdown",
   "metadata": {},
   "source": [
    "# Set up Statistic Variational Inference for all cases (Supervised, Unsupervised, and Classify)"
   ]
  },
  {
   "cell_type": "code",
   "execution_count": 28,
   "metadata": {},
   "outputs": [],
   "source": [
    "svi_supervised = SVI(m2_vae.model_supervised, \n",
    "            m2_vae.guide_supervised, \n",
    "            optim=optimizer, \n",
    "            loss=Trace_ELBO()\n",
    ")\n",
    "\n",
    "svi_unsupervised = SVI(m2_vae.model_unsupervised, \n",
    "            m2_vae.guide_unsupervised, #config_enumerate(m2_vae.guide_unsupervised), \n",
    "            optim=optimizer, \n",
    "            loss=Trace_ELBO() # TraceEnum_ELBO(max_plate_nesting=1) Would be better, ...\n",
    ")\n",
    "\n",
    "svi_classify = SVI(m2_vae.model_classify,\n",
    "                   m2_vae.guide_classify,\n",
    "                   optim=optimizer,\n",
    "                   loss=Trace_ELBO()\n",
    ")"
   ]
  },
  {
   "cell_type": "code",
   "execution_count": 29,
   "metadata": {},
   "outputs": [
    {
     "name": "stdout",
     "output_type": "stream",
     "text": [
      "SVI set up complete!\n"
     ]
    },
    {
     "name": "stderr",
     "output_type": "stream",
     "text": [
      "C:\\Users\\Matthieu Dinot\\AppData\\Local\\Temp\\ipykernel_17196\\3335124818.py:2: UserWarning: Currently, SVI with Trace_ELBO loss does not support models with discrete latent variables\n",
      "  svi_unsupervised.init(random.PRNGKey(0), xs=jnp.ones((1,)+MNIST_IMG_SHAPE))\n"
     ]
    }
   ],
   "source": [
    "state = svi_supervised.init(random.PRNGKey(0), xs=jnp.ones((1,)+MNIST_IMG_SHAPE), ys=jnp.ones((1), dtype=jnp.int32))\n",
    "svi_unsupervised.init(random.PRNGKey(0), xs=jnp.ones((1,)+MNIST_IMG_SHAPE))\n",
    "svi_classify.init(random.PRNGKey(0), xs=jnp.ones((1,)+MNIST_IMG_SHAPE), ys=jnp.ones((1), dtype=jnp.int32))\n",
    "\n",
    "print(\"SVI set up complete!\")"
   ]
  },
  {
   "cell_type": "code",
   "execution_count": 30,
   "metadata": {},
   "outputs": [
    {
     "name": "stdout",
     "output_type": "stream",
     "text": [
      "dict_keys(['decoder$params', 'encoder1$params', 'encoder2$params'])\n"
     ]
    }
   ],
   "source": [
    "print(state[0][1][0].keys())"
   ]
  },
  {
   "cell_type": "code",
   "execution_count": 34,
   "metadata": {},
   "outputs": [
    {
     "name": "stdout",
     "output_type": "stream",
     "text": [
      "0\n"
     ]
    }
   ],
   "source": [
    "for batch in loader_dict[\"supervised\"]:\n",
    "    x, y = batch\n",
    "    ypred = m2_vae.classify(state, x)\n",
    "    print(jnp.sum(ypred==y))\n",
    "    break"
   ]
  },
  {
   "cell_type": "code",
   "execution_count": null,
   "metadata": {},
   "outputs": [],
   "source": [
    "tot_loss_supervised = 0.0\n",
    "tot_loss_unsupervised = 0.0\n",
    "tot_loss_classify = 0.0\n",
    "\n",
    "for is_supervised, batch in loader_dict[\"semi_supervised\"]:\n",
    "    if is_supervised:\n",
    "        x, y = batch\n",
    "        state, loss = svi_supervised.update(state, xs=x, ys=y)\n",
    "        tot_loss_supervised += loss\n",
    "        state, loss = svi_classify.update(state, xs=x, ys=y)\n",
    "        tot_loss_classify += loss\n",
    "    else:\n",
    "        x = batch\n",
    "        state, loss = svi_unsupervised.update(state, xs=x)\n",
    "        tot_loss_unsupervised += loss\n",
    "\n",
    "print(tot_loss_supervised, tot_loss_unsupervised, tot_loss_classify)"
   ]
  },
  {
   "cell_type": "code",
   "execution_count": null,
   "metadata": {},
   "outputs": [],
   "source": []
  }
 ],
 "metadata": {
  "kernelspec": {
   "display_name": "venv",
   "language": "python",
   "name": "python3"
  },
  "language_info": {
   "codemirror_mode": {
    "name": "ipython",
    "version": 3
   },
   "file_extension": ".py",
   "mimetype": "text/x-python",
   "name": "python",
   "nbconvert_exporter": "python",
   "pygments_lexer": "ipython3",
   "version": "3.11.5"
  }
 },
 "nbformat": 4,
 "nbformat_minor": 2
}
