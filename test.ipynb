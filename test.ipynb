{
 "cells": [
  {
   "cell_type": "code",
   "execution_count": null,
   "metadata": {},
   "outputs": [],
   "source": [
    "import pickle\n",
    "\n",
    "import numpyro\n",
    "import numpyro.handlers as handlers\n",
    "import jax.numpy as jnp\n",
    "import jax\n",
    "from numpyro.infer import Predictive\n",
    "\n",
    "from src.models.M2VAE import M2VAE\n",
    "from src.models.encoder_decoder import MNISTEncoder, MNISTDecoder, CIFAR10Encoder, CIFAR10Decoder\n",
    "from src.data_loading.loaders import get_data_loaders\n",
    "\n",
    "import matplotlib.pyplot as plt"
   ]
  },
  {
   "cell_type": "code",
   "execution_count": null,
   "metadata": {},
   "outputs": [],
   "source": [
    "# Set up random seed\n",
    "seed = 42\n",
    "\n",
    "# DATASET\n",
    "dataset_name = \"MNIST\" # use \"CIFAR10\"\n",
    "\n",
    "encoder_class = MNISTEncoder if dataset_name==\"MNIST\" else CIFAR10Encoder\n",
    "decoder_class = MNISTDecoder if dataset_name==\"MNIST\" else CIFAR10Decoder\n",
    "distribution = \"bernoulli\" if dataset_name==\"MNIST\" else \"laplace\""
   ]
  },
  {
   "cell_type": "code",
   "execution_count": null,
   "metadata": {},
   "outputs": [],
   "source": [
    "img_shape, loader_dict, size_dict = get_data_loaders(dataset_name=dataset_name, \n",
    "                                          p_test=0.2, \n",
    "                                          p_val=0.2, \n",
    "                                          p_supervised=0.05, \n",
    "                                          batch_size=10, \n",
    "                                          num_workers=0, \n",
    "                                          seed=seed)\n",
    "\n",
    "scale_factor = 1."
   ]
  },
  {
   "cell_type": "code",
   "execution_count": null,
   "metadata": {},
   "outputs": [],
   "source": [
    "m2_vae = M2VAE(encoder_class, \n",
    "               decoder_class, \n",
    "               10, \n",
    "               50, \n",
    "               img_shape, \n",
    "               scale_factor=scale_factor, \n",
    "               distribution=distribution\n",
    ")"
   ]
  },
  {
   "cell_type": "code",
   "execution_count": null,
   "metadata": {},
   "outputs": [],
   "source": [
    "with open(\"./model_weights/m2\" + dataset_name + \".pkl\", 'rb') as file:\n",
    "    params=pickle.load(file)"
   ]
  },
  {
   "cell_type": "code",
   "execution_count": null,
   "metadata": {},
   "outputs": [],
   "source": [
    "#xs = jnp.zeros((10,) + img_shape)\n",
    "#ys = jnp.array([i for i in range(10)])\n",
    "\n",
    "\n",
    "# OR \n",
    "load = iter(loader_dict[\"test\"])\n",
    "xs, ys = next(load)\n",
    "\n",
    "n_rows = 2\n",
    "n_cols = 5\n",
    "\n",
    "plt.figure(figsize=(n_cols * 2, n_rows * 2))\n",
    "for i in range(n_rows):\n",
    "    for j in range(n_cols):\n",
    "        plt.subplot(n_rows, n_cols, i * n_cols + j + 1)\n",
    "        image = xs[i * n_cols + j]\n",
    "        \n",
    "        if dataset_name == \"MNIST\":\n",
    "            image = image.squeeze(-1)\n",
    "            plt.imshow(image, cmap='gray')\n",
    "        elif dataset_name == \"CIFAR10\":\n",
    "            plt.imshow(image)\n",
    "        plt.axis('off')  # Turn off the axis labels\n",
    "\n",
    "# Adjust layout and show the plot\n",
    "plt.tight_layout()\n",
    "plt.show()"
   ]
  },
  {
   "cell_type": "code",
   "execution_count": null,
   "metadata": {},
   "outputs": [],
   "source": [
    "print(xs.shape, ys.shape)"
   ]
  },
  {
   "cell_type": "code",
   "execution_count": null,
   "metadata": {},
   "outputs": [],
   "source": [
    "predictive = Predictive(m2_vae.model_supervised, guide=m2_vae.guide_supervised, params=params, num_samples=25, return_sites=[\"loc\"])\n",
    "\n",
    "rng_key = jax.random.PRNGKey(0) \n",
    "predictions = predictive(rng_key, xs, ys)\n",
    "\n",
    "loc = predictions['loc']\n",
    "\n",
    "print(loc.shape)"
   ]
  },
  {
   "cell_type": "code",
   "execution_count": null,
   "metadata": {},
   "outputs": [],
   "source": [
    "class_number = 3"
   ]
  },
  {
   "cell_type": "code",
   "execution_count": null,
   "metadata": {},
   "outputs": [],
   "source": [
    "n_rows = 5\n",
    "n_cols = 5\n",
    "\n",
    "plt.figure(figsize=(n_cols * 2, n_rows * 2))\n",
    "for i in range(n_rows * n_cols):\n",
    "    plt.subplot(n_rows, n_cols, i + 1)\n",
    "    image = loc[i, class_number]\n",
    "\n",
    "    if dataset_name == \"MNIST\":\n",
    "        image = image.squeeze(-1)\n",
    "        plt.imshow(image, cmap='gray')\n",
    "    elif dataset_name == \"CIFAR10\":\n",
    "        plt.imshow(image)\n",
    "    plt.axis('off')  # Turn off the axis labels\n",
    "\n",
    "# Adjust layout and show the plot\n",
    "plt.tight_layout()\n",
    "plt.show()"
   ]
  },
  {
   "cell_type": "code",
   "execution_count": null,
   "metadata": {},
   "outputs": [],
   "source": []
  }
 ],
 "metadata": {
  "kernelspec": {
   "display_name": "venv",
   "language": "python",
   "name": "python3"
  },
  "language_info": {
   "codemirror_mode": {
    "name": "ipython",
    "version": 3
   },
   "file_extension": ".py",
   "mimetype": "text/x-python",
   "name": "python",
   "nbconvert_exporter": "python",
   "pygments_lexer": "ipython3",
   "version": "3.11.5"
  }
 },
 "nbformat": 4,
 "nbformat_minor": 2
}
