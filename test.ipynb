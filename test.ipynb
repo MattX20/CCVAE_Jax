{
 "cells": [
  {
   "cell_type": "code",
   "execution_count": 11,
   "metadata": {},
   "outputs": [],
   "source": [
    "import pickle\n",
    "\n",
    "import numpyro\n",
    "import numpyro.handlers as handlers\n",
    "import jax.numpy as jnp\n",
    "import jax\n",
    "from numpyro.infer import Predictive\n",
    "\n",
    "from src.models.M2VAE import M2VAE\n",
    "from src.models.encoder_decoder import MNISTEncoder, MNISTDecoder, CIFAR10Encoder, CIFAR10Decoder\n",
    "\n",
    "import matplotlib.pyplot as plt"
   ]
  },
  {
   "cell_type": "code",
   "execution_count": 12,
   "metadata": {},
   "outputs": [],
   "source": [
    "# Set up random seed\n",
    "seed = 42\n",
    "\n",
    "# DATASET\n",
    "dataset_name = \"MNIST\" # use \"CIFAR10\"\n",
    "\n",
    "encoder_class = MNISTEncoder if dataset_name==\"MNIST\" else CIFAR10Encoder\n",
    "decoder_class = MNISTDecoder if dataset_name==\"MNIST\" else CIFAR10Decoder\n",
    "distribution = \"bernoulli\" if dataset_name==\"MNIST\" else \"laplace\"\n",
    "img_shape = (1, 28, 28, 1)\n",
    "scale_factor = 1."
   ]
  },
  {
   "cell_type": "code",
   "execution_count": 13,
   "metadata": {},
   "outputs": [],
   "source": [
    "m2_vae = M2VAE(encoder_class, \n",
    "               decoder_class, \n",
    "               10, \n",
    "               50, \n",
    "               img_shape, \n",
    "               scale_factor=scale_factor, \n",
    "               distribution=distribution\n",
    ")"
   ]
  },
  {
   "cell_type": "code",
   "execution_count": 14,
   "metadata": {},
   "outputs": [],
   "source": [
    "with open(\"./model_weights/m2MNIST.pkl\", 'rb') as file:\n",
    "    params=pickle.load(file)"
   ]
  },
  {
   "cell_type": "code",
   "execution_count": 27,
   "metadata": {},
   "outputs": [],
   "source": [
    "xs = jnp.zeros((10, 28, 28, 1))\n",
    "ys = jnp.array([3 for _ in range(10)])"
   ]
  },
  {
   "cell_type": "code",
   "execution_count": 28,
   "metadata": {},
   "outputs": [
    {
     "name": "stdout",
     "output_type": "stream",
     "text": [
      "(1, 10, 28, 28, 1)\n"
     ]
    }
   ],
   "source": [
    "predictive = Predictive(m2_vae.model_supervised, params=params, num_samples=1 ,return_sites=[\"loc\"])\n",
    "\n",
    "# Generate predictions\n",
    "rng_key = jax.random.PRNGKey(0)  # Use an appropriate random key\n",
    "predictions = predictive(rng_key, xs, ys)\n",
    "\n",
    "# Extract the 'loc'\n",
    "loc = predictions['loc']\n",
    "\n",
    "# Now loc contains the values you're interested in\n",
    "print(loc.shape)"
   ]
  },
  {
   "cell_type": "code",
   "execution_count": 29,
   "metadata": {},
   "outputs": [
    {
     "data": {
      "image/png": "[encoded data removed]",
      "text/plain": [
       "<Figure size 1000x400 with 10 Axes>"
      ]
     },
     "metadata": {},
     "output_type": "display_data"
    }
   ],
   "source": [
    "# Set the number of rows and columns for the plot grid\n",
    "n_rows = 2\n",
    "n_cols = 5\n",
    "\n",
    "# Create a figure with subplots\n",
    "plt.figure(figsize=(n_cols * 2, n_rows * 2))\n",
    "for i in range(n_rows * n_cols):\n",
    "    plt.subplot(n_rows, n_cols, i + 1)\n",
    "    # Select the i-th image and reshape it to 28x28\n",
    "    image = loc[0, i].reshape(28, 28)\n",
    "    plt.imshow(image, cmap='gray')  # cmap='gray' is for grayscale\n",
    "    plt.axis('off')  # Turn off the axis labels\n",
    "\n",
    "# Adjust layout and show the plot\n",
    "plt.tight_layout()\n",
    "plt.show()"
   ]
  },
  {
   "cell_type": "code",
   "execution_count": null,
   "metadata": {},
   "outputs": [],
   "source": []
  }
 ],
 "metadata": {
  "kernelspec": {
   "display_name": "venv",
   "language": "python",
   "name": "python3"
  },
  "language_info": {
   "codemirror_mode": {
    "name": "ipython",
    "version": 3
   },
   "file_extension": ".py",
   "mimetype": "text/x-python",
   "name": "python",
   "nbconvert_exporter": "python",
   "pygments_lexer": "ipython3",
   "version": "3.11.5"
  }
 },
 "nbformat": 4,
 "nbformat_minor": 2
}
