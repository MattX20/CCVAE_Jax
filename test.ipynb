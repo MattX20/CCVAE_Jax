{
 "cells": [
  {
   "cell_type": "code",
   "execution_count": null,
   "metadata": {},
   "outputs": [],
   "source": [
    "%load_ext autoreload\n",
    "%autoreload 2"
   ]
  },
  {
   "cell_type": "code",
   "execution_count": null,
   "metadata": {},
   "outputs": [],
   "source": [
    "import jax\n",
    "import jax.numpy as jnp\n",
    "from jax import random\n",
    "\n",
    "import optax\n",
    "from numpyro.infer import SVI, Trace_ELBO, TraceEnum_ELBO"
   ]
  },
  {
   "cell_type": "code",
   "execution_count": null,
   "metadata": {},
   "outputs": [],
   "source": [
    "from src.models.M2VAE import M2VAE\n",
    "\n",
    "from src.models.encoder_decoder import MNISTEncoder, MNISTDecoder\n",
    "from src.data_loading.constants import MNIST_IMG_SHAPE\n",
    "\n",
    "from src.data_loading.loaders import get_data_loaders"
   ]
  },
  {
   "cell_type": "markdown",
   "metadata": {},
   "source": [
    "# Set Random Seed"
   ]
  },
  {
   "cell_type": "code",
   "execution_count": null,
   "metadata": {},
   "outputs": [],
   "source": [
    "seed = 42"
   ]
  },
  {
   "cell_type": "markdown",
   "metadata": {},
   "source": [
    "# Load Data"
   ]
  },
  {
   "cell_type": "code",
   "execution_count": null,
   "metadata": {},
   "outputs": [],
   "source": [
    "img_shape, loader_dict, size_dict = get_data_loaders(dataset_name=\"MNIST\", \n",
    "                                          p_test=0.2, \n",
    "                                          p_val=0.2, \n",
    "                                          p_supervised=0.1, \n",
    "                                          batch_size=2, \n",
    "                                          num_workers=0, \n",
    "                                          seed=seed)\n",
    "\n",
    "scale_factor = 50 / size_dict[\"supervised\"]"
   ]
  },
  {
   "cell_type": "markdown",
   "metadata": {},
   "source": [
    "# Set up Model"
   ]
  },
  {
   "cell_type": "code",
   "execution_count": null,
   "metadata": {},
   "outputs": [],
   "source": [
    "m2_vae = M2VAE(MNISTEncoder, MNISTDecoder, 10, 30, MNIST_IMG_SHAPE, scale_factor=scale_factor)"
   ]
  },
  {
   "cell_type": "markdown",
   "metadata": {},
   "source": [
    "# Set up Optimizer"
   ]
  },
  {
   "cell_type": "code",
   "execution_count": null,
   "metadata": {},
   "outputs": [],
   "source": [
    "optimizer = optax.adam(1e-3)"
   ]
  },
  {
   "cell_type": "markdown",
   "metadata": {},
   "source": [
    "# Set up Statistic Variational Inference for all cases (Supervised, Unsupervised, and Classify)"
   ]
  },
  {
   "cell_type": "code",
   "execution_count": null,
   "metadata": {},
   "outputs": [],
   "source": [
    "svi_supervised = SVI(m2_vae.model_supervised, \n",
    "            m2_vae.guide_supervised, \n",
    "            optim=optimizer, \n",
    "            loss=Trace_ELBO()\n",
    ")\n",
    "\n",
    "svi_unsupervised = SVI(m2_vae.model_unsupervised, \n",
    "            m2_vae.guide_unsupervised, #config_enumerate(m2_vae.guide_unsupervised), \n",
    "            optim=optimizer, \n",
    "            loss=Trace_ELBO() # TraceEnum_ELBO(max_plate_nesting=1) Would be better, ...\n",
    ")\n",
    "\n",
    "svi_classify = SVI(m2_vae.model_classify,\n",
    "                   m2_vae.guide_classify,\n",
    "                   optim=optimizer,\n",
    "                   loss=Trace_ELBO()\n",
    ")"
   ]
  },
  {
   "cell_type": "code",
   "execution_count": null,
   "metadata": {},
   "outputs": [],
   "source": [
    "state = svi_supervised.init(random.PRNGKey(0), xs=jnp.ones((1,)+MNIST_IMG_SHAPE), ys=jnp.ones((1), dtype=jnp.int32))\n",
    "svi_unsupervised.init(random.PRNGKey(0), xs=jnp.ones((1,)+MNIST_IMG_SHAPE))\n",
    "svi_classify.init(random.PRNGKey(0), xs=jnp.ones((1,)+MNIST_IMG_SHAPE), ys=jnp.ones((1), dtype=jnp.int32))\n",
    "\n",
    "print(\"SVI set up complete!\")"
   ]
  },
  {
   "cell_type": "code",
   "execution_count": null,
   "metadata": {},
   "outputs": [],
   "source": [
    "tot_loss_supervised = 0.0\n",
    "tot_loss_unsupervised = 0.0\n",
    "tot_loss_classify = 0.0\n",
    "\n",
    "for is_supervised, batch in loader_dict[\"semi_supervised\"]:\n",
    "    if is_supervised:\n",
    "        x, y = batch\n",
    "        state, loss = svi_supervised.update(state, xs=x, ys=y)\n",
    "        tot_loss_supervised += loss\n",
    "        state, loss = svi_classify.update(state, xs=x, ys=y)\n",
    "        tot_loss_classify += loss\n",
    "    else:\n",
    "        x = batch\n",
    "        state, loss = svi_unsupervised.update(state, xs=x)\n",
    "        tot_loss_unsupervised += loss\n",
    "\n",
    "print(tot_loss_supervised, tot_loss_unsupervised, tot_loss_classify)"
   ]
  },
  {
   "cell_type": "code",
   "execution_count": null,
   "metadata": {},
   "outputs": [],
   "source": []
  }
 ],
 "metadata": {
  "kernelspec": {
   "display_name": "venv",
   "language": "python",
   "name": "python3"
  },
  "language_info": {
   "codemirror_mode": {
    "name": "ipython",
    "version": 3
   },
   "file_extension": ".py",
   "mimetype": "text/x-python",
   "name": "python",
   "nbconvert_exporter": "python",
   "pygments_lexer": "ipython3",
   "version": "3.11.5"
  }
 },
 "nbformat": 4,
 "nbformat_minor": 2
}
