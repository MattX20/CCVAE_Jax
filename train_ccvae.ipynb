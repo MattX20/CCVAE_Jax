{
 "cells": [
  {
   "cell_type": "code",
   "execution_count": 1,
   "metadata": {},
   "outputs": [
    {
     "name": "stderr",
     "output_type": "stream",
     "text": [
      "/users/eleves-a/2020/david.heurtel-depeiges/Desktop/CCVAE_Jax/pgm/lib64/python3.9/site-packages/tqdm/auto.py:21: TqdmWarning: IProgress not found. Please update jupyter and ipywidgets. See https://ipywidgets.readthedocs.io/en/stable/user_install.html\n",
      "  from .autonotebook import tqdm as notebook_tqdm\n"
     ]
    },
    {
     "name": "stdout",
     "output_type": "stream",
     "text": [
      "Successfully loaded MNIST dataset.\n",
      "Total num samples 60000\n",
      "Num test samples: 12000\n",
      "Num validation samples: 9600\n",
      "Num supervised samples: 34560\n",
      "Num unsupervised samples: 3840\n",
      "Model set up!\n"
     ]
    }
   ],
   "source": [
    "from pathlib import Path\n",
    "import pickle\n",
    "\n",
    "import jax\n",
    "from jax import jit, device_put\n",
    "import jax.numpy as jnp\n",
    "from jax import random\n",
    "from tqdm import tqdm\n",
    "import optax\n",
    "from numpyro.infer import SVI, Trace_ELBO\n",
    "import numpy as np\n",
    "import matplotlib.pyplot as plt\n",
    "\n",
    "from src.models.CCVAE import CCVAE\n",
    "from src.models.encoder_decoder import MNISTEncoder, MNISTDecoder, CIFAR10Encoder, CIFAR10Decoder\n",
    "from src.data_loading.loaders import get_data_loaders\n",
    "from src.losses import CCVAE_ELBO\n",
    "\n",
    "\n",
    "# Set up random seed\n",
    "seed = 42\n",
    "\n",
    "# DATASET\n",
    "dataset_name = \"CELEBA\" # use \"CIFAR10\"*\n",
    "#dataset_name = 'CIFAR10'\n",
    "\n",
    "encoder_class = MNISTEncoder if dataset_name==\"MNIST\" else CIFAR10Encoder\n",
    "decoder_class = MNISTDecoder if dataset_name==\"MNIST\" else CIFAR10Decoder\n",
    "distribution = \"bernoulli\" if dataset_name==\"MNIST\" else \"laplace\"\n",
    "\n",
    "# Data loading\n",
    "\n",
    "img_shape, loader_dict, size_dict = get_data_loaders(dataset_name=dataset_name, \n",
    "                                          p_test=0.2, \n",
    "                                          p_val=0.2, \n",
    "                                          p_supervised=0.9, \n",
    "                                          batch_size=128, \n",
    "                                          num_workers=6, \n",
    "                                          seed=seed)\n",
    "\n",
    "scale_factor = 0.1 * size_dict[\"supervised\"] # IMPORTANT, maybe run a grid search (0.3 on cifar)\n",
    "\n",
    "# Set up model\n",
    "ccvae = CCVAE(encoder_class, \n",
    "               decoder_class, \n",
    "               10, \n",
    "               50, \n",
    "               img_shape, \n",
    "               scale_factor=scale_factor, \n",
    "               distribution=distribution,\n",
    "               multiclass=False\n",
    ")\n",
    "print(\"Model set up!\")\n",
    "\n",
    "# Set up two learning rate schedules, one for the VAE and one for the classifier\n",
    "lr_schedule_vae = optax.piecewise_constant_schedule(\n",
    "    init_value=2e-3,\n",
    "    boundaries_and_scales={\n",
    "        20 * len(loader_dict[\"semi_supervised\"]): 0.7,\n",
    "    }\n",
    ")\n",
    "lr_schedule_classifier = optax.piecewise_constant_schedule(\n",
    "    init_value=1e-3,\n",
    "    boundaries_and_scales={\n",
    "        20 * len(loader_dict[\"semi_supervised\"]): 0.7,\n",
    "    }\n",
    ")\n",
    "# Set up two optimizers, one for the VAE and one for the classifier\n",
    "\n",
    "optimizer_vae = optax.adam(lr_schedule_vae)\n",
    "optimizer_classifier = optax.adamw(lr_schedule_classifier, weight_decay=3e-4)"
   ]
  },
  {
   "cell_type": "code",
   "execution_count": 2,
   "metadata": {},
   "outputs": [],
   "source": [
    "import flax\n",
    "def flattened_traversal(fn):\n",
    "  \"\"\"Returns function that is called with `(path, param)` instead of pytree.\"\"\"\n",
    "  def mask(tree):\n",
    "    flat = flax.traverse_util.flatten_dict(tree)\n",
    "    return flax.traverse_util.unflatten_dict(\n",
    "        {k: fn(k, v) for k, v in flat.items()})\n",
    "  return mask"
   ]
  },
  {
   "cell_type": "code",
   "execution_count": 3,
   "metadata": {},
   "outputs": [],
   "source": [
    "vae_classifier_fn = lambda path, param: 'low' if \"Classifier\" in path else 'high'\n",
    "\n",
    "vae_classifier_fn = flattened_traversal(vae_classifier_fn)\n",
    "\n",
    "# Set up optimizer\n",
    "\n",
    "optimizer = optax.multi_transform({'low': optimizer_classifier, 'high': optimizer_vae}, vae_classifier_fn)"
   ]
  },
  {
   "cell_type": "code",
   "execution_count": 4,
   "metadata": {},
   "outputs": [
    {
     "name": "stdout",
     "output_type": "stream",
     "text": [
      "SVI set up!\n",
      "Start training.\n"
     ]
    },
    {
     "name": "stderr",
     "output_type": "stream",
     "text": [
      "/tmp/ipykernel_302475/815935608.py:19: UserWarning: Currently, SVI with Trace_ELBO loss does not support models with discrete latent variables\n",
      "  svi_unsupervised.init(\n"
     ]
    }
   ],
   "source": [
    "\n",
    "# Set up SVI\n",
    "svi_supervised = SVI(ccvae.model_supervised, \n",
    "            ccvae.guide_supervised, \n",
    "            optim=optimizer, \n",
    "            loss=CCVAE_ELBO()\n",
    ")\n",
    "\n",
    "svi_unsupervised = SVI(ccvae.model_unsupervised, \n",
    "            ccvae.guide_unsupervised,\n",
    "            optim=optimizer, \n",
    "            loss=Trace_ELBO()\n",
    ")\n",
    "\n",
    "state = svi_supervised.init(\n",
    "    random.PRNGKey(seed), \n",
    "    xs=jnp.ones((1,)+img_shape), \n",
    "    ys=jnp.ones((1), dtype=jnp.int32)\n",
    ")\n",
    "svi_unsupervised.init(\n",
    "    random.PRNGKey(seed), \n",
    "    xs=jnp.ones((1,)+img_shape)\n",
    ")\n",
    "print(\"SVI set up!\")\n",
    "\n",
    "\n",
    "# Train functions\n",
    "@jit\n",
    "def train_step_supervised(state, batch):\n",
    "    x, y = batch\n",
    "    state, loss_supervised = svi_supervised.update(state, xs=x, ys=y)\n",
    "    \n",
    "    return state, loss_supervised\n",
    "\n",
    "@jit\n",
    "def train_step_unsupervised(state, batch):\n",
    "    x = batch\n",
    "    state, loss_unsupervised = svi_unsupervised.update(state, xs=x)\n",
    "    \n",
    "    return state, loss_unsupervised\n",
    "\n",
    "# Training\n",
    "semi_supervised_loader = loader_dict[\"semi_supervised\"]\n",
    "validation_loader = loader_dict[\"validation\"]\n",
    "test_loader = loader_dict[\"test\"]\n",
    "\n",
    "print(\"Start training.\")\n",
    "loss_rec_supervised = []\n",
    "loss_rec_unsupervised = []\n",
    "validation_accuracy_rec = []\n"
   ]
  },
  {
   "cell_type": "code",
   "execution_count": 5,
   "metadata": {},
   "outputs": [
    {
     "name": "stderr",
     "output_type": "stream",
     "text": [
      "  1%|          | 1/100 [00:09<16:12,  9.82s/it]"
     ]
    },
    {
     "name": "stdout",
     "output_type": "stream",
     "text": [
      "\n",
      "Epoch: 1 loss sup: 34727.152 loss unsup: 33238.176 val acc: 0.13854165\n"
     ]
    },
    {
     "name": "stderr",
     "output_type": "stream",
     "text": [
      "  2%|▏         | 2/100 [00:12<09:28,  5.80s/it]"
     ]
    },
    {
     "name": "stdout",
     "output_type": "stream",
     "text": [
      "\n",
      "Epoch: 2 loss sup: 25699.863 loss unsup: 25543.617 val acc: 0.19864583\n"
     ]
    },
    {
     "name": "stderr",
     "output_type": "stream",
     "text": [
      "  3%|▎         | 3/100 [00:15<07:11,  4.44s/it]"
     ]
    },
    {
     "name": "stdout",
     "output_type": "stream",
     "text": [
      "\n",
      "Epoch: 3 loss sup: 23984.86 loss unsup: 23946.72 val acc: 0.21135415\n"
     ]
    },
    {
     "name": "stderr",
     "output_type": "stream",
     "text": [
      "  4%|▍         | 4/100 [00:18<06:02,  3.78s/it]"
     ]
    },
    {
     "name": "stdout",
     "output_type": "stream",
     "text": [
      "\n",
      "Epoch: 4 loss sup: 23022.28 loss unsup: 22859.684 val acc: 0.20947915\n"
     ]
    },
    {
     "name": "stderr",
     "output_type": "stream",
     "text": [
      "  5%|▌         | 5/100 [00:21<05:28,  3.45s/it]"
     ]
    },
    {
     "name": "stdout",
     "output_type": "stream",
     "text": [
      "\n",
      "Epoch: 5 loss sup: 21797.152 loss unsup: 21809.682 val acc: 0.28333333\n"
     ]
    },
    {
     "name": "stderr",
     "output_type": "stream",
     "text": [
      "  6%|▌         | 6/100 [00:24<05:04,  3.24s/it]"
     ]
    },
    {
     "name": "stdout",
     "output_type": "stream",
     "text": [
      "\n",
      "Epoch: 6 loss sup: 20970.73 loss unsup: 20873.309 val acc: 0.28395832\n"
     ]
    },
    {
     "name": "stderr",
     "output_type": "stream",
     "text": [
      "  7%|▋         | 7/100 [00:26<04:46,  3.08s/it]"
     ]
    },
    {
     "name": "stdout",
     "output_type": "stream",
     "text": [
      "\n",
      "Epoch: 7 loss sup: 20386.822 loss unsup: 20280.588 val acc: 0.20677082\n"
     ]
    },
    {
     "name": "stderr",
     "output_type": "stream",
     "text": [
      "  8%|▊         | 8/100 [00:29<04:34,  2.98s/it]"
     ]
    },
    {
     "name": "stdout",
     "output_type": "stream",
     "text": [
      "\n",
      "Epoch: 8 loss sup: 19823.402 loss unsup: 19777.717 val acc: 0.18968749\n"
     ]
    },
    {
     "name": "stderr",
     "output_type": "stream",
     "text": [
      "  9%|▉         | 9/100 [00:32<04:26,  2.92s/it]"
     ]
    },
    {
     "name": "stdout",
     "output_type": "stream",
     "text": [
      "\n",
      "Epoch: 9 loss sup: 19540.625 loss unsup: 19439.469 val acc: 0.21916665\n"
     ]
    },
    {
     "name": "stderr",
     "output_type": "stream",
     "text": [
      " 10%|█         | 10/100 [00:35<04:22,  2.92s/it]"
     ]
    },
    {
     "name": "stdout",
     "output_type": "stream",
     "text": [
      "\n",
      "Epoch: 10 loss sup: 19133.135 loss unsup: 19029.094 val acc: 0.23718749\n"
     ]
    },
    {
     "name": "stderr",
     "output_type": "stream",
     "text": [
      " 11%|█         | 11/100 [00:38<04:18,  2.90s/it]"
     ]
    },
    {
     "name": "stdout",
     "output_type": "stream",
     "text": [
      "\n",
      "Epoch: 11 loss sup: 18771.557 loss unsup: 18643.617 val acc: 0.25062498\n"
     ]
    },
    {
     "name": "stderr",
     "output_type": "stream",
     "text": [
      " 12%|█▏        | 12/100 [00:41<04:14,  2.90s/it]"
     ]
    },
    {
     "name": "stdout",
     "output_type": "stream",
     "text": [
      "\n",
      "Epoch: 12 loss sup: 18437.111 loss unsup: 18298.188 val acc: 0.25020832\n"
     ]
    },
    {
     "name": "stderr",
     "output_type": "stream",
     "text": [
      " 13%|█▎        | 13/100 [00:43<04:07,  2.85s/it]"
     ]
    },
    {
     "name": "stdout",
     "output_type": "stream",
     "text": [
      "\n",
      "Epoch: 13 loss sup: 18121.967 loss unsup: 18014.018 val acc: 0.2153125\n"
     ]
    },
    {
     "name": "stderr",
     "output_type": "stream",
     "text": [
      " 14%|█▍        | 14/100 [00:46<04:03,  2.83s/it]"
     ]
    },
    {
     "name": "stdout",
     "output_type": "stream",
     "text": [
      "\n",
      "Epoch: 14 loss sup: 17768.744 loss unsup: 17731.725 val acc: 0.23385416\n"
     ]
    },
    {
     "name": "stderr",
     "output_type": "stream",
     "text": [
      " 15%|█▌        | 15/100 [00:49<03:59,  2.81s/it]"
     ]
    },
    {
     "name": "stdout",
     "output_type": "stream",
     "text": [
      "\n",
      "Epoch: 15 loss sup: 17571.018 loss unsup: 17458.055 val acc: 0.22781248\n"
     ]
    },
    {
     "name": "stderr",
     "output_type": "stream",
     "text": [
      " 16%|█▌        | 16/100 [00:52<03:59,  2.86s/it]"
     ]
    },
    {
     "name": "stdout",
     "output_type": "stream",
     "text": [
      "\n",
      "Epoch: 16 loss sup: 17414.635 loss unsup: 17287.768 val acc: 0.20208332\n"
     ]
    },
    {
     "name": "stderr",
     "output_type": "stream",
     "text": [
      " 17%|█▋        | 17/100 [00:55<03:57,  2.86s/it]"
     ]
    },
    {
     "name": "stdout",
     "output_type": "stream",
     "text": [
      "\n",
      "Epoch: 17 loss sup: 17245.963 loss unsup: 17137.467 val acc: 0.20010416\n"
     ]
    },
    {
     "name": "stderr",
     "output_type": "stream",
     "text": [
      " 18%|█▊        | 18/100 [00:58<03:54,  2.86s/it]"
     ]
    },
    {
     "name": "stdout",
     "output_type": "stream",
     "text": [
      "\n",
      "Epoch: 18 loss sup: 17058.24 loss unsup: 17009.574 val acc: 0.23416665\n"
     ]
    },
    {
     "name": "stderr",
     "output_type": "stream",
     "text": [
      " 19%|█▉        | 19/100 [01:01<03:55,  2.90s/it]"
     ]
    },
    {
     "name": "stdout",
     "output_type": "stream",
     "text": [
      "\n",
      "Epoch: 19 loss sup: 16953.396 loss unsup: 16875.633 val acc: 0.22864582\n"
     ]
    },
    {
     "name": "stderr",
     "output_type": "stream",
     "text": [
      " 20%|██        | 20/100 [01:04<03:55,  2.95s/it]"
     ]
    },
    {
     "name": "stdout",
     "output_type": "stream",
     "text": [
      "\n",
      "Epoch: 20 loss sup: 16923.492 loss unsup: 16776.94 val acc: 0.19749999\n"
     ]
    },
    {
     "name": "stderr",
     "output_type": "stream",
     "text": [
      " 21%|██        | 21/100 [01:06<03:50,  2.91s/it]"
     ]
    },
    {
     "name": "stdout",
     "output_type": "stream",
     "text": [
      "\n",
      "Epoch: 21 loss sup: 16786.924 loss unsup: 16629.652 val acc: 0.27072915\n"
     ]
    },
    {
     "name": "stderr",
     "output_type": "stream",
     "text": [
      " 22%|██▏       | 22/100 [01:09<03:45,  2.89s/it]"
     ]
    },
    {
     "name": "stdout",
     "output_type": "stream",
     "text": [
      "\n",
      "Epoch: 22 loss sup: 16693.17 loss unsup: 16565.732 val acc: 0.26135415\n"
     ]
    },
    {
     "name": "stderr",
     "output_type": "stream",
     "text": [
      " 23%|██▎       | 23/100 [01:12<03:40,  2.86s/it]"
     ]
    },
    {
     "name": "stdout",
     "output_type": "stream",
     "text": [
      "\n",
      "Epoch: 23 loss sup: 16650.73 loss unsup: 16492.709 val acc: 0.15145832\n"
     ]
    },
    {
     "name": "stderr",
     "output_type": "stream",
     "text": [
      " 24%|██▍       | 24/100 [01:15<03:37,  2.86s/it]"
     ]
    },
    {
     "name": "stdout",
     "output_type": "stream",
     "text": [
      "\n",
      "Epoch: 24 loss sup: 16604.213 loss unsup: 16435.045 val acc: 0.23166665\n"
     ]
    },
    {
     "name": "stderr",
     "output_type": "stream",
     "text": [
      " 25%|██▌       | 25/100 [01:18<03:34,  2.86s/it]"
     ]
    },
    {
     "name": "stdout",
     "output_type": "stream",
     "text": [
      "\n",
      "Epoch: 25 loss sup: 16530.596 loss unsup: 16403.584 val acc: 0.19885416\n"
     ]
    },
    {
     "name": "stderr",
     "output_type": "stream",
     "text": [
      " 26%|██▌       | 26/100 [01:21<03:30,  2.84s/it]"
     ]
    },
    {
     "name": "stdout",
     "output_type": "stream",
     "text": [
      "\n",
      "Epoch: 26 loss sup: 16460.688 loss unsup: 16356.245 val acc: 0.16031249\n"
     ]
    },
    {
     "name": "stderr",
     "output_type": "stream",
     "text": [
      " 27%|██▋       | 27/100 [01:23<03:26,  2.83s/it]"
     ]
    },
    {
     "name": "stdout",
     "output_type": "stream",
     "text": [
      "\n",
      "Epoch: 27 loss sup: 16442.41 loss unsup: 16313.684 val acc: 0.13260417\n"
     ]
    },
    {
     "name": "stderr",
     "output_type": "stream",
     "text": [
      " 28%|██▊       | 28/100 [01:26<03:23,  2.83s/it]"
     ]
    },
    {
     "name": "stdout",
     "output_type": "stream",
     "text": [
      "\n",
      "Epoch: 28 loss sup: 16441.889 loss unsup: 16277.297 val acc: 0.14281249\n"
     ]
    },
    {
     "name": "stderr",
     "output_type": "stream",
     "text": [
      " 29%|██▉       | 29/100 [01:29<03:21,  2.84s/it]"
     ]
    },
    {
     "name": "stdout",
     "output_type": "stream",
     "text": [
      "\n",
      "Epoch: 29 loss sup: 16395.377 loss unsup: 16234.754 val acc: 0.16833332\n"
     ]
    },
    {
     "name": "stderr",
     "output_type": "stream",
     "text": [
      " 30%|███       | 30/100 [01:32<03:17,  2.83s/it]"
     ]
    },
    {
     "name": "stdout",
     "output_type": "stream",
     "text": [
      "\n",
      "Epoch: 30 loss sup: 16328.849 loss unsup: 16179.568 val acc: 0.19010416\n"
     ]
    },
    {
     "name": "stderr",
     "output_type": "stream",
     "text": [
      " 31%|███       | 31/100 [01:35<03:14,  2.82s/it]"
     ]
    },
    {
     "name": "stdout",
     "output_type": "stream",
     "text": [
      "\n",
      "Epoch: 31 loss sup: 16283.828 loss unsup: 16152.885 val acc: 0.24770832\n"
     ]
    },
    {
     "name": "stderr",
     "output_type": "stream",
     "text": [
      " 32%|███▏      | 32/100 [01:38<03:11,  2.82s/it]"
     ]
    },
    {
     "name": "stdout",
     "output_type": "stream",
     "text": [
      "\n",
      "Epoch: 32 loss sup: 16244.9 loss unsup: 16101.917 val acc: 0.21822916\n"
     ]
    },
    {
     "name": "stderr",
     "output_type": "stream",
     "text": [
      " 33%|███▎      | 33/100 [01:40<03:11,  2.85s/it]"
     ]
    },
    {
     "name": "stdout",
     "output_type": "stream",
     "text": [
      "\n",
      "Epoch: 33 loss sup: 16181.922 loss unsup: 16048.37 val acc: 0.19281249\n"
     ]
    },
    {
     "name": "stderr",
     "output_type": "stream",
     "text": [
      " 34%|███▍      | 34/100 [01:43<03:06,  2.83s/it]"
     ]
    },
    {
     "name": "stdout",
     "output_type": "stream",
     "text": [
      "\n",
      "Epoch: 34 loss sup: 16125.422 loss unsup: 16025.371 val acc: 0.1559375\n"
     ]
    },
    {
     "name": "stderr",
     "output_type": "stream",
     "text": [
      " 35%|███▌      | 35/100 [01:46<03:04,  2.85s/it]"
     ]
    },
    {
     "name": "stdout",
     "output_type": "stream",
     "text": [
      "\n",
      "Epoch: 35 loss sup: 16137.444 loss unsup: 16012.215 val acc: 0.14156249\n"
     ]
    },
    {
     "name": "stderr",
     "output_type": "stream",
     "text": [
      " 36%|███▌      | 36/100 [01:49<03:02,  2.84s/it]"
     ]
    },
    {
     "name": "stdout",
     "output_type": "stream",
     "text": [
      "\n",
      "Epoch: 36 loss sup: 16098.013 loss unsup: 15974.236 val acc: 0.15291665\n"
     ]
    },
    {
     "name": "stderr",
     "output_type": "stream",
     "text": [
      " 37%|███▋      | 37/100 [01:52<02:58,  2.83s/it]"
     ]
    },
    {
     "name": "stdout",
     "output_type": "stream",
     "text": [
      "\n",
      "Epoch: 37 loss sup: 16074.535 loss unsup: 15943.369 val acc: 0.14354166\n"
     ]
    },
    {
     "name": "stderr",
     "output_type": "stream",
     "text": [
      " 38%|███▊      | 38/100 [01:55<02:55,  2.83s/it]"
     ]
    },
    {
     "name": "stdout",
     "output_type": "stream",
     "text": [
      "\n",
      "Epoch: 38 loss sup: 16032.004 loss unsup: 15905.512 val acc: 0.20854166\n"
     ]
    },
    {
     "name": "stderr",
     "output_type": "stream",
     "text": [
      " 39%|███▉      | 39/100 [01:57<02:53,  2.84s/it]"
     ]
    },
    {
     "name": "stdout",
     "output_type": "stream",
     "text": [
      "\n",
      "Epoch: 39 loss sup: 16049.132 loss unsup: 15865.081 val acc: 0.14447916\n"
     ]
    },
    {
     "name": "stderr",
     "output_type": "stream",
     "text": [
      " 40%|████      | 40/100 [02:00<02:50,  2.85s/it]"
     ]
    },
    {
     "name": "stdout",
     "output_type": "stream",
     "text": [
      "\n",
      "Epoch: 40 loss sup: 15959.389 loss unsup: 15845.765 val acc: 0.16572917\n"
     ]
    },
    {
     "name": "stderr",
     "output_type": "stream",
     "text": [
      " 41%|████      | 41/100 [02:03<02:47,  2.84s/it]"
     ]
    },
    {
     "name": "stdout",
     "output_type": "stream",
     "text": [
      "\n",
      "Epoch: 41 loss sup: 15950.628 loss unsup: 15821.748 val acc: 0.13812499\n"
     ]
    },
    {
     "name": "stderr",
     "output_type": "stream",
     "text": [
      " 42%|████▏     | 42/100 [02:06<02:44,  2.84s/it]"
     ]
    },
    {
     "name": "stdout",
     "output_type": "stream",
     "text": [
      "\n",
      "Epoch: 42 loss sup: 15977.748 loss unsup: 15797.662 val acc: 0.190625\n"
     ]
    },
    {
     "name": "stderr",
     "output_type": "stream",
     "text": [
      " 43%|████▎     | 43/100 [02:09<02:42,  2.84s/it]"
     ]
    },
    {
     "name": "stdout",
     "output_type": "stream",
     "text": [
      "\n",
      "Epoch: 43 loss sup: 15898.25 loss unsup: 15791.412 val acc: 0.18333332\n"
     ]
    },
    {
     "name": "stderr",
     "output_type": "stream",
     "text": [
      " 44%|████▍     | 44/100 [02:12<02:40,  2.87s/it]"
     ]
    },
    {
     "name": "stdout",
     "output_type": "stream",
     "text": [
      "\n",
      "Epoch: 44 loss sup: 15904.035 loss unsup: 15745.317 val acc: 0.27135417\n"
     ]
    },
    {
     "name": "stderr",
     "output_type": "stream",
     "text": [
      " 45%|████▌     | 45/100 [02:15<02:36,  2.85s/it]"
     ]
    },
    {
     "name": "stdout",
     "output_type": "stream",
     "text": [
      "\n",
      "Epoch: 45 loss sup: 15799.967 loss unsup: 15718.785 val acc: 0.18416665\n"
     ]
    },
    {
     "name": "stderr",
     "output_type": "stream",
     "text": [
      " 46%|████▌     | 46/100 [02:18<02:35,  2.89s/it]"
     ]
    },
    {
     "name": "stdout",
     "output_type": "stream",
     "text": [
      "\n",
      "Epoch: 46 loss sup: 15851.539 loss unsup: 15701.318 val acc: 0.1509375\n"
     ]
    },
    {
     "name": "stderr",
     "output_type": "stream",
     "text": [
      " 47%|████▋     | 47/100 [02:20<02:31,  2.86s/it]"
     ]
    },
    {
     "name": "stdout",
     "output_type": "stream",
     "text": [
      "\n",
      "Epoch: 47 loss sup: 15823.06 loss unsup: 15694.226 val acc: 0.14458333\n"
     ]
    },
    {
     "name": "stderr",
     "output_type": "stream",
     "text": [
      " 48%|████▊     | 48/100 [02:23<02:28,  2.85s/it]"
     ]
    },
    {
     "name": "stdout",
     "output_type": "stream",
     "text": [
      "\n",
      "Epoch: 48 loss sup: 15832.645 loss unsup: 15681.464 val acc: 0.20239583\n"
     ]
    },
    {
     "name": "stderr",
     "output_type": "stream",
     "text": [
      " 49%|████▉     | 49/100 [02:26<02:24,  2.84s/it]"
     ]
    },
    {
     "name": "stdout",
     "output_type": "stream",
     "text": [
      "\n",
      "Epoch: 49 loss sup: 15820.715 loss unsup: 15662.493 val acc: 0.19218749\n"
     ]
    },
    {
     "name": "stderr",
     "output_type": "stream",
     "text": [
      " 50%|█████     | 50/100 [02:29<02:21,  2.83s/it]"
     ]
    },
    {
     "name": "stdout",
     "output_type": "stream",
     "text": [
      "\n",
      "Epoch: 50 loss sup: 15762.604 loss unsup: 15649.024 val acc: 0.20968749\n"
     ]
    },
    {
     "name": "stderr",
     "output_type": "stream",
     "text": [
      " 51%|█████     | 51/100 [02:32<02:17,  2.80s/it]"
     ]
    },
    {
     "name": "stdout",
     "output_type": "stream",
     "text": [
      "\n",
      "Epoch: 51 loss sup: 15743.752 loss unsup: 15627.614 val acc: 0.16135415\n"
     ]
    },
    {
     "name": "stderr",
     "output_type": "stream",
     "text": [
      " 52%|█████▏    | 52/100 [02:34<02:15,  2.82s/it]"
     ]
    },
    {
     "name": "stdout",
     "output_type": "stream",
     "text": [
      "\n",
      "Epoch: 52 loss sup: 15771.826 loss unsup: 15637.632 val acc: 0.20791666\n"
     ]
    },
    {
     "name": "stderr",
     "output_type": "stream",
     "text": [
      " 53%|█████▎    | 53/100 [02:37<02:12,  2.83s/it]"
     ]
    },
    {
     "name": "stdout",
     "output_type": "stream",
     "text": [
      "\n",
      "Epoch: 53 loss sup: 15750.663 loss unsup: 15617.801 val acc: 0.17062499\n"
     ]
    },
    {
     "name": "stderr",
     "output_type": "stream",
     "text": [
      " 54%|█████▍    | 54/100 [02:40<02:10,  2.84s/it]"
     ]
    },
    {
     "name": "stdout",
     "output_type": "stream",
     "text": [
      "\n",
      "Epoch: 54 loss sup: 15739.235 loss unsup: 15587.946 val acc: 0.144375\n"
     ]
    },
    {
     "name": "stderr",
     "output_type": "stream",
     "text": [
      " 55%|█████▌    | 55/100 [02:43<02:08,  2.86s/it]"
     ]
    },
    {
     "name": "stdout",
     "output_type": "stream",
     "text": [
      "\n",
      "Epoch: 55 loss sup: 15742.017 loss unsup: 15576.811 val acc: 0.14656249\n"
     ]
    },
    {
     "name": "stderr",
     "output_type": "stream",
     "text": [
      " 56%|█████▌    | 56/100 [02:46<02:07,  2.90s/it]"
     ]
    },
    {
     "name": "stdout",
     "output_type": "stream",
     "text": [
      "\n",
      "Epoch: 56 loss sup: 15738.872 loss unsup: 15584.099 val acc: 0.13833332\n"
     ]
    },
    {
     "name": "stderr",
     "output_type": "stream",
     "text": [
      " 57%|█████▋    | 57/100 [02:49<02:04,  2.90s/it]"
     ]
    },
    {
     "name": "stdout",
     "output_type": "stream",
     "text": [
      "\n",
      "Epoch: 57 loss sup: 15777.893 loss unsup: 15578.849 val acc: 0.12635416\n"
     ]
    },
    {
     "name": "stderr",
     "output_type": "stream",
     "text": [
      " 58%|█████▊    | 58/100 [02:52<02:00,  2.86s/it]"
     ]
    },
    {
     "name": "stdout",
     "output_type": "stream",
     "text": [
      "\n",
      "Epoch: 58 loss sup: 15699.67 loss unsup: 15570.157 val acc: 0.13010415\n"
     ]
    },
    {
     "name": "stderr",
     "output_type": "stream",
     "text": [
      " 59%|█████▉    | 59/100 [02:55<01:57,  2.87s/it]"
     ]
    },
    {
     "name": "stdout",
     "output_type": "stream",
     "text": [
      "\n",
      "Epoch: 59 loss sup: 15726.546 loss unsup: 15536.75 val acc: 0.13114582\n"
     ]
    },
    {
     "name": "stderr",
     "output_type": "stream",
     "text": [
      " 60%|██████    | 60/100 [02:57<01:53,  2.84s/it]"
     ]
    },
    {
     "name": "stdout",
     "output_type": "stream",
     "text": [
      "\n",
      "Epoch: 60 loss sup: 15715.226 loss unsup: 15535.338 val acc: 0.12989582\n"
     ]
    },
    {
     "name": "stderr",
     "output_type": "stream",
     "text": [
      " 61%|██████    | 61/100 [03:00<01:50,  2.82s/it]"
     ]
    },
    {
     "name": "stdout",
     "output_type": "stream",
     "text": [
      "\n",
      "Epoch: 61 loss sup: 15675.548 loss unsup: 15526.353 val acc: 0.1334375\n"
     ]
    },
    {
     "name": "stderr",
     "output_type": "stream",
     "text": [
      " 62%|██████▏   | 62/100 [03:03<01:49,  2.88s/it]"
     ]
    },
    {
     "name": "stdout",
     "output_type": "stream",
     "text": [
      "\n",
      "Epoch: 62 loss sup: 15671.304 loss unsup: 15532.184 val acc: 0.125625\n"
     ]
    },
    {
     "name": "stderr",
     "output_type": "stream",
     "text": [
      " 63%|██████▎   | 63/100 [03:06<01:45,  2.84s/it]"
     ]
    },
    {
     "name": "stdout",
     "output_type": "stream",
     "text": [
      "\n",
      "Epoch: 63 loss sup: 15673.909 loss unsup: 15514.686 val acc: 0.13083333\n"
     ]
    },
    {
     "name": "stderr",
     "output_type": "stream",
     "text": [
      " 64%|██████▍   | 64/100 [03:09<01:42,  2.84s/it]"
     ]
    },
    {
     "name": "stdout",
     "output_type": "stream",
     "text": [
      "\n",
      "Epoch: 64 loss sup: 15679.866 loss unsup: 15506.186 val acc: 0.13635416\n"
     ]
    },
    {
     "name": "stderr",
     "output_type": "stream",
     "text": [
      " 65%|██████▌   | 65/100 [03:12<01:39,  2.83s/it]"
     ]
    },
    {
     "name": "stdout",
     "output_type": "stream",
     "text": [
      "\n",
      "Epoch: 65 loss sup: 15650.058 loss unsup: 15512.869 val acc: 0.1359375\n"
     ]
    },
    {
     "name": "stderr",
     "output_type": "stream",
     "text": [
      " 66%|██████▌   | 66/100 [03:14<01:35,  2.81s/it]"
     ]
    },
    {
     "name": "stdout",
     "output_type": "stream",
     "text": [
      "\n",
      "Epoch: 66 loss sup: 15638.361 loss unsup: 15486.181 val acc: 0.143125\n"
     ]
    },
    {
     "name": "stderr",
     "output_type": "stream",
     "text": [
      " 67%|██████▋   | 67/100 [03:17<01:32,  2.81s/it]"
     ]
    },
    {
     "name": "stdout",
     "output_type": "stream",
     "text": [
      "\n",
      "Epoch: 67 loss sup: 15673.487 loss unsup: 15470.75 val acc: 0.13645832\n"
     ]
    },
    {
     "name": "stderr",
     "output_type": "stream",
     "text": [
      " 68%|██████▊   | 68/100 [03:20<01:29,  2.81s/it]"
     ]
    },
    {
     "name": "stdout",
     "output_type": "stream",
     "text": [
      "\n",
      "Epoch: 68 loss sup: 15661.926 loss unsup: 15471.215 val acc: 0.13114582\n"
     ]
    },
    {
     "name": "stderr",
     "output_type": "stream",
     "text": [
      " 69%|██████▉   | 69/100 [03:23<01:27,  2.83s/it]"
     ]
    },
    {
     "name": "stdout",
     "output_type": "stream",
     "text": [
      "\n",
      "Epoch: 69 loss sup: 15659.2705 loss unsup: 15467.585 val acc: 0.13479166\n"
     ]
    },
    {
     "name": "stderr",
     "output_type": "stream",
     "text": [
      " 70%|███████   | 70/100 [03:26<01:26,  2.88s/it]"
     ]
    },
    {
     "name": "stdout",
     "output_type": "stream",
     "text": [
      "\n",
      "Epoch: 70 loss sup: 15651.004 loss unsup: 15466.888 val acc: 0.13489583\n"
     ]
    },
    {
     "name": "stderr",
     "output_type": "stream",
     "text": [
      " 71%|███████   | 71/100 [03:29<01:22,  2.85s/it]"
     ]
    },
    {
     "name": "stdout",
     "output_type": "stream",
     "text": [
      "\n",
      "Epoch: 71 loss sup: 15608.1 loss unsup: 15447.159 val acc: 0.13385417\n"
     ]
    },
    {
     "name": "stderr",
     "output_type": "stream",
     "text": [
      " 72%|███████▏  | 72/100 [03:31<01:19,  2.86s/it]"
     ]
    },
    {
     "name": "stdout",
     "output_type": "stream",
     "text": [
      "\n",
      "Epoch: 72 loss sup: 15573.293 loss unsup: 15450.476 val acc: 0.13937499\n"
     ]
    },
    {
     "name": "stderr",
     "output_type": "stream",
     "text": [
      " 73%|███████▎  | 73/100 [03:34<01:17,  2.87s/it]"
     ]
    },
    {
     "name": "stdout",
     "output_type": "stream",
     "text": [
      "\n",
      "Epoch: 73 loss sup: 15619.991 loss unsup: 15427.679 val acc: 0.14229167\n"
     ]
    },
    {
     "name": "stderr",
     "output_type": "stream",
     "text": [
      " 74%|███████▍  | 74/100 [03:37<01:15,  2.89s/it]"
     ]
    },
    {
     "name": "stdout",
     "output_type": "stream",
     "text": [
      "\n",
      "Epoch: 74 loss sup: 15632.444 loss unsup: 15423.746 val acc: 0.13874999\n"
     ]
    },
    {
     "name": "stderr",
     "output_type": "stream",
     "text": [
      " 75%|███████▌  | 75/100 [03:40<01:13,  2.93s/it]"
     ]
    },
    {
     "name": "stdout",
     "output_type": "stream",
     "text": [
      "\n",
      "Epoch: 75 loss sup: 15631.812 loss unsup: 15416.0 val acc: 0.14010416\n"
     ]
    },
    {
     "name": "stderr",
     "output_type": "stream",
     "text": [
      " 76%|███████▌  | 76/100 [03:43<01:09,  2.90s/it]"
     ]
    },
    {
     "name": "stdout",
     "output_type": "stream",
     "text": [
      "\n",
      "Epoch: 76 loss sup: 15618.326 loss unsup: 15430.234 val acc: 0.13510416\n"
     ]
    },
    {
     "name": "stderr",
     "output_type": "stream",
     "text": [
      " 77%|███████▋  | 77/100 [03:46<01:06,  2.88s/it]"
     ]
    },
    {
     "name": "stdout",
     "output_type": "stream",
     "text": [
      "\n",
      "Epoch: 77 loss sup: 15594.728 loss unsup: 15408.135 val acc: 0.13947916\n"
     ]
    },
    {
     "name": "stderr",
     "output_type": "stream",
     "text": [
      " 78%|███████▊  | 78/100 [03:49<01:02,  2.84s/it]"
     ]
    },
    {
     "name": "stdout",
     "output_type": "stream",
     "text": [
      "\n",
      "Epoch: 78 loss sup: 15604.174 loss unsup: 15410.968 val acc: 0.14093749\n"
     ]
    },
    {
     "name": "stderr",
     "output_type": "stream",
     "text": [
      " 79%|███████▉  | 79/100 [03:51<00:59,  2.83s/it]"
     ]
    },
    {
     "name": "stdout",
     "output_type": "stream",
     "text": [
      "\n",
      "Epoch: 79 loss sup: 15570.597 loss unsup: 15403.946 val acc: 0.13895832\n"
     ]
    },
    {
     "name": "stderr",
     "output_type": "stream",
     "text": [
      " 80%|████████  | 80/100 [03:54<00:57,  2.87s/it]"
     ]
    },
    {
     "name": "stdout",
     "output_type": "stream",
     "text": [
      "\n",
      "Epoch: 80 loss sup: 15569.855 loss unsup: 15388.723 val acc: 0.14854166\n"
     ]
    },
    {
     "name": "stderr",
     "output_type": "stream",
     "text": [
      " 81%|████████  | 81/100 [03:57<00:54,  2.89s/it]"
     ]
    },
    {
     "name": "stdout",
     "output_type": "stream",
     "text": [
      "\n",
      "Epoch: 81 loss sup: 15597.355 loss unsup: 15401.138 val acc: 0.15270832\n"
     ]
    },
    {
     "name": "stderr",
     "output_type": "stream",
     "text": [
      " 82%|████████▏ | 82/100 [04:00<00:51,  2.87s/it]"
     ]
    },
    {
     "name": "stdout",
     "output_type": "stream",
     "text": [
      "\n",
      "Epoch: 82 loss sup: 15552.758 loss unsup: 15384.892 val acc: 0.1490625\n"
     ]
    },
    {
     "name": "stderr",
     "output_type": "stream",
     "text": [
      " 83%|████████▎ | 83/100 [04:03<00:48,  2.86s/it]"
     ]
    },
    {
     "name": "stdout",
     "output_type": "stream",
     "text": [
      "\n",
      "Epoch: 83 loss sup: 15544.153 loss unsup: 15377.168 val acc: 0.148125\n"
     ]
    },
    {
     "name": "stderr",
     "output_type": "stream",
     "text": [
      " 84%|████████▍ | 84/100 [04:06<00:45,  2.85s/it]"
     ]
    },
    {
     "name": "stdout",
     "output_type": "stream",
     "text": [
      "\n",
      "Epoch: 84 loss sup: 15559.409 loss unsup: 15356.798 val acc: 0.14625\n"
     ]
    },
    {
     "name": "stderr",
     "output_type": "stream",
     "text": [
      " 85%|████████▌ | 85/100 [04:09<00:42,  2.83s/it]"
     ]
    },
    {
     "name": "stdout",
     "output_type": "stream",
     "text": [
      "\n",
      "Epoch: 85 loss sup: 15593.237 loss unsup: 15337.984 val acc: 0.14697915\n"
     ]
    },
    {
     "name": "stderr",
     "output_type": "stream",
     "text": [
      " 86%|████████▌ | 86/100 [04:12<00:39,  2.83s/it]"
     ]
    },
    {
     "name": "stdout",
     "output_type": "stream",
     "text": [
      "\n",
      "Epoch: 86 loss sup: 15573.074 loss unsup: 15367.243 val acc: 0.14958332\n"
     ]
    },
    {
     "name": "stderr",
     "output_type": "stream",
     "text": [
      " 87%|████████▋ | 87/100 [04:14<00:37,  2.87s/it]"
     ]
    },
    {
     "name": "stdout",
     "output_type": "stream",
     "text": [
      "\n",
      "Epoch: 87 loss sup: 15546.733 loss unsup: 15344.735 val acc: 0.15395832\n"
     ]
    },
    {
     "name": "stderr",
     "output_type": "stream",
     "text": [
      " 88%|████████▊ | 88/100 [04:17<00:34,  2.84s/it]"
     ]
    },
    {
     "name": "stdout",
     "output_type": "stream",
     "text": [
      "\n",
      "Epoch: 88 loss sup: 15556.6 loss unsup: 15329.002 val acc: 0.15958333\n"
     ]
    },
    {
     "name": "stderr",
     "output_type": "stream",
     "text": [
      " 89%|████████▉ | 89/100 [04:20<00:31,  2.82s/it]"
     ]
    },
    {
     "name": "stdout",
     "output_type": "stream",
     "text": [
      "\n",
      "Epoch: 89 loss sup: 15540.609 loss unsup: 15317.309 val acc: 0.16520832\n"
     ]
    },
    {
     "name": "stderr",
     "output_type": "stream",
     "text": [
      " 90%|█████████ | 90/100 [04:23<00:28,  2.84s/it]"
     ]
    },
    {
     "name": "stdout",
     "output_type": "stream",
     "text": [
      "\n",
      "Epoch: 90 loss sup: 15574.814 loss unsup: 15302.134 val acc: 0.1540625\n"
     ]
    },
    {
     "name": "stderr",
     "output_type": "stream",
     "text": [
      " 91%|█████████ | 91/100 [04:26<00:25,  2.83s/it]"
     ]
    },
    {
     "name": "stdout",
     "output_type": "stream",
     "text": [
      "\n",
      "Epoch: 91 loss sup: 15550.541 loss unsup: 15295.022 val acc: 0.15562499\n"
     ]
    },
    {
     "name": "stderr",
     "output_type": "stream",
     "text": [
      " 92%|█████████▏| 92/100 [04:29<00:22,  2.82s/it]"
     ]
    },
    {
     "name": "stdout",
     "output_type": "stream",
     "text": [
      "\n",
      "Epoch: 92 loss sup: 15521.339 loss unsup: 15315.699 val acc: 0.15760416\n"
     ]
    },
    {
     "name": "stderr",
     "output_type": "stream",
     "text": [
      " 93%|█████████▎| 93/100 [04:31<00:19,  2.81s/it]"
     ]
    },
    {
     "name": "stdout",
     "output_type": "stream",
     "text": [
      "\n",
      "Epoch: 93 loss sup: 15532.491 loss unsup: 15299.627 val acc: 0.16104166\n"
     ]
    },
    {
     "name": "stderr",
     "output_type": "stream",
     "text": [
      " 94%|█████████▍| 94/100 [04:34<00:16,  2.81s/it]"
     ]
    },
    {
     "name": "stdout",
     "output_type": "stream",
     "text": [
      "\n",
      "Epoch: 94 loss sup: 15548.13 loss unsup: 15292.337 val acc: 0.16385415\n"
     ]
    },
    {
     "name": "stderr",
     "output_type": "stream",
     "text": [
      " 95%|█████████▌| 95/100 [04:37<00:14,  2.81s/it]"
     ]
    },
    {
     "name": "stdout",
     "output_type": "stream",
     "text": [
      "\n",
      "Epoch: 95 loss sup: 15543.655 loss unsup: 15276.782 val acc: 0.16208333\n"
     ]
    },
    {
     "name": "stderr",
     "output_type": "stream",
     "text": [
      " 96%|█████████▌| 96/100 [04:40<00:11,  2.82s/it]"
     ]
    },
    {
     "name": "stdout",
     "output_type": "stream",
     "text": [
      "\n",
      "Epoch: 96 loss sup: 15527.742 loss unsup: 15276.851 val acc: 0.15885416\n"
     ]
    },
    {
     "name": "stderr",
     "output_type": "stream",
     "text": [
      " 97%|█████████▋| 97/100 [04:43<00:08,  2.81s/it]"
     ]
    },
    {
     "name": "stdout",
     "output_type": "stream",
     "text": [
      "\n",
      "Epoch: 97 loss sup: 15525.865 loss unsup: 15265.209 val acc: 0.15770833\n"
     ]
    },
    {
     "name": "stderr",
     "output_type": "stream",
     "text": [
      " 98%|█████████▊| 98/100 [04:45<00:05,  2.80s/it]"
     ]
    },
    {
     "name": "stdout",
     "output_type": "stream",
     "text": [
      "\n",
      "Epoch: 98 loss sup: 15522.7705 loss unsup: 15265.436 val acc: 0.15906249\n"
     ]
    },
    {
     "name": "stderr",
     "output_type": "stream",
     "text": [
      " 99%|█████████▉| 99/100 [04:48<00:02,  2.84s/it]"
     ]
    },
    {
     "name": "stdout",
     "output_type": "stream",
     "text": [
      "\n",
      "Epoch: 99 loss sup: 15494.393 loss unsup: 15245.385 val acc: 0.16645832\n"
     ]
    },
    {
     "name": "stderr",
     "output_type": "stream",
     "text": [
      "100%|██████████| 100/100 [04:51<00:00,  2.92s/it]"
     ]
    },
    {
     "name": "stdout",
     "output_type": "stream",
     "text": [
      "\n",
      "Epoch: 100 loss sup: 15503.29 loss unsup: 15239.277 val acc: 0.16854165\n",
      "Training finished!\n"
     ]
    },
    {
     "name": "stderr",
     "output_type": "stream",
     "text": [
      "\n"
     ]
    }
   ],
   "source": [
    "num_epochs = 100\n",
    "for epoch in tqdm(range(1, num_epochs + 1)):\n",
    "    running_loss = 0.0\n",
    "\n",
    "    loss_rec_step_supervised = []\n",
    "    loss_rec_step_unsupervised = []\n",
    "\n",
    "    # Trainning\n",
    "    for is_supervised, batch in semi_supervised_loader: \n",
    "        batch = device_put(batch)\n",
    "\n",
    "        if is_supervised:\n",
    "            state, loss_supervised = train_step_supervised(state, batch)\n",
    "            loss_rec_step_supervised.append(loss_supervised)\n",
    "        else:\n",
    "            state, loss_unsupervised = train_step_unsupervised(state, batch)\n",
    "            loss_rec_step_unsupervised.append(loss_unsupervised)\n",
    "    \n",
    "    loss_epoch_supervised = np.mean(loss_rec_step_supervised)\n",
    "    loss_epoch_unsupervised = np.mean(loss_rec_step_unsupervised)\n",
    "\n",
    "    loss_rec_supervised.append(loss_epoch_supervised)\n",
    "    loss_rec_unsupervised.append(loss_epoch_unsupervised)\n",
    "    \n",
    "    validation_accuracy = 0.0\n",
    "\n",
    "    for batch in validation_loader:\n",
    "        batch = device_put(batch)\n",
    "        x, y = batch\n",
    "        ypred = ccvae.classify(state[0][1][0], x)\n",
    "        validation_accuracy += jnp.mean(y == ypred)\n",
    "    \n",
    "    validation_accuracy /= len(validation_loader)\n",
    "    validation_accuracy_rec.append(validation_accuracy)\n",
    "    \n",
    "    print(\"\\nEpoch:\", \n",
    "          epoch, \n",
    "          \"loss sup:\", \n",
    "          loss_epoch_supervised, \n",
    "          \"loss unsup:\", \n",
    "          loss_epoch_unsupervised, \n",
    "          \"val acc:\", \n",
    "          validation_accuracy\n",
    "    )\n",
    "\n",
    "print(\"Training finished!\")"
   ]
  },
  {
   "cell_type": "code",
   "execution_count": null,
   "metadata": {},
   "outputs": [],
   "source": []
  }
 ],
 "metadata": {
  "kernelspec": {
   "display_name": "pgm",
   "language": "python",
   "name": "python3"
  },
  "language_info": {
   "codemirror_mode": {
    "name": "ipython",
    "version": 3
   },
   "file_extension": ".py",
   "mimetype": "text/x-python",
   "name": "python",
   "nbconvert_exporter": "python",
   "pygments_lexer": "ipython3",
   "version": "3.9.18"
  }
 },
 "nbformat": 4,
 "nbformat_minor": 2
}
