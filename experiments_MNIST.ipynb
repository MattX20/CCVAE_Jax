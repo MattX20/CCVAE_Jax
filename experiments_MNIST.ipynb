{
 "cells": [
  {
   "cell_type": "code",
   "execution_count": 2,
   "metadata": {},
   "outputs": [
    {
     "name": "stderr",
     "output_type": "stream",
     "text": [
      "/users/eleves-a/2020/david.heurtel-depeiges/Desktop/CCVAE_Jax/pgm/lib64/python3.9/site-packages/tqdm/auto.py:21: TqdmWarning: IProgress not found. Please update jupyter and ipywidgets. See https://ipywidgets.readthedocs.io/en/stable/user_install.html\n",
      "  from .autonotebook import tqdm as notebook_tqdm\n"
     ]
    }
   ],
   "source": [
    "import os\n",
    "from pathlib import Path\n",
    "import pickle\n",
    "import jax\n",
    "import matplotlib.pyplot as plt\n",
    "\n",
    "from src.models.CCVAE import CCVAE\n",
    "from src.models.encoder_decoder import get_encoder_decoder\n",
    "from src.data_loading.loaders import get_data_loaders\n",
    "from src.models.config import get_config\n",
    "from numpyro.infer import Predictive\n",
    "\n",
    "import jax.random as jrandom\n",
    "\n",
    "key = jrandom.PRNGKey(0)"
   ]
  },
  {
   "cell_type": "code",
   "execution_count": 3,
   "metadata": {},
   "outputs": [],
   "source": [
    "supervised_prop = [1e-3, 3e-3, 1e-2, 3e-2, 5e-2, 1e-1, 1.5e-1, 2e-1, 2.5e-1, 3e-1, 3.5e-1, 4e-1, 5.5e-1, 6e-1, 6.5e-1, 8e-1, 9e-1, 1.0]"
   ]
  },
  {
   "cell_type": "code",
   "execution_count": null,
   "metadata": {},
   "outputs": [],
   "source": [
    "## M2 experiments\n",
    "\n",
    "for prop in supervised_prop:\n",
    "    print(f\"Running experiment with {prop} of supervised data\")\n",
    "    os.system(\"python train_m2.py --dataset MNIST --num_epochs 200 --lr 2e-5 --p_supervised 0.2 --freq_lr_change 400 --batch_size 200\")"
   ]
  }
 ],
 "metadata": {
  "kernelspec": {
   "display_name": "pgm",
   "language": "python",
   "name": "python3"
  },
  "language_info": {
   "codemirror_mode": {
    "name": "ipython",
    "version": 3
   },
   "file_extension": ".py",
   "mimetype": "text/x-python",
   "name": "python",
   "nbconvert_exporter": "python",
   "pygments_lexer": "ipython3",
   "version": "3.9.18"
  }
 },
 "nbformat": 4,
 "nbformat_minor": 2
}
