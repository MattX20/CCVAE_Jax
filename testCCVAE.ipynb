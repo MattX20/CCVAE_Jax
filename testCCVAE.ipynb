{
 "cells": [
  {
   "cell_type": "code",
   "execution_count": 1,
   "metadata": {},
   "outputs": [],
   "source": [
    "%load_ext autoreload\n",
    "%autoreload 2"
   ]
  },
  {
   "cell_type": "code",
   "execution_count": 2,
   "metadata": {},
   "outputs": [
    {
     "name": "stderr",
     "output_type": "stream",
     "text": [
      "c:\\Users\\Matthieu Dinot\\Desktop\\MVA\\PGM\\venv\\Lib\\site-packages\\tqdm\\auto.py:21: TqdmWarning: IProgress not found. Please update jupyter and ipywidgets. See https://ipywidgets.readthedocs.io/en/stable/user_install.html\n",
      "  from .autonotebook import tqdm as notebook_tqdm\n"
     ]
    }
   ],
   "source": [
    "import pickle\n",
    "\n",
    "import numpyro\n",
    "import numpyro.handlers as handlers\n",
    "import jax.numpy as jnp\n",
    "import jax\n",
    "\n",
    "from jax import random\n",
    "import optax\n",
    "from numpyro.infer import Predictive, SVI, Trace_ELBO\n",
    "\n",
    "from src.models.CCVAE import CCVAE\n",
    "from src.models.encoder_decoder import MNISTEncoder, MNISTDecoder, CIFAR10Encoder, CIFAR10Decoder\n",
    "from src.data_loading.loaders import get_data_loaders\n",
    "from src.losses import CCVAE_ELBO\n",
    "\n",
    "import matplotlib.pyplot as plt"
   ]
  },
  {
   "cell_type": "code",
   "execution_count": 3,
   "metadata": {},
   "outputs": [],
   "source": [
    "# Set up random seed\n",
    "seed = 42\n",
    "\n",
    "# DATASET\n",
    "dataset_name = \"MNIST\" # use \"CIFAR10\"\n",
    "\n",
    "encoder_class = MNISTEncoder if dataset_name==\"MNIST\" else CIFAR10Encoder\n",
    "decoder_class = MNISTDecoder if dataset_name==\"MNIST\" else CIFAR10Decoder\n",
    "distribution = \"bernoulli\" if dataset_name==\"MNIST\" else \"laplace\""
   ]
  },
  {
   "cell_type": "code",
   "execution_count": 4,
   "metadata": {},
   "outputs": [
    {
     "name": "stdout",
     "output_type": "stream",
     "text": [
      "Successfully loaded MNIST dataset.\n",
      "Total num samples 60000\n",
      "Num test samples: 12000\n",
      "Num validation samples: 9600\n",
      "Num supervised samples: 1920\n",
      "Num unsupervised samples: 36480\n"
     ]
    }
   ],
   "source": [
    "img_shape, loader_dict, size_dict = get_data_loaders(dataset_name=dataset_name, \n",
    "                                          p_test=0.2, \n",
    "                                          p_val=0.2, \n",
    "                                          p_supervised=0.05, \n",
    "                                          batch_size=10, \n",
    "                                          num_workers=0, \n",
    "                                          seed=seed)\n",
    "\n",
    "scale_factor = 1."
   ]
  },
  {
   "cell_type": "code",
   "execution_count": 5,
   "metadata": {},
   "outputs": [],
   "source": [
    "ccvae = CCVAE(encoder_class, \n",
    "               decoder_class, \n",
    "               10, \n",
    "               50, \n",
    "               img_shape, \n",
    "               scale_factor=scale_factor, \n",
    "               distribution=distribution,\n",
    "               multiclass=False\n",
    ")"
   ]
  },
  {
   "cell_type": "code",
   "execution_count": 6,
   "metadata": {},
   "outputs": [],
   "source": [
    "optimizer = optax.adam(1e-3)"
   ]
  },
  {
   "cell_type": "code",
   "execution_count": 7,
   "metadata": {},
   "outputs": [],
   "source": [
    "svi_supervised = SVI(ccvae.model_supervised, \n",
    "            ccvae.guide_supervised, \n",
    "            optim=optimizer, \n",
    "            loss=CCVAE_ELBO()\n",
    ")"
   ]
  },
  {
   "cell_type": "code",
   "execution_count": 8,
   "metadata": {},
   "outputs": [
    {
     "name": "stdout",
     "output_type": "stream",
     "text": [
      "(1,)\n"
     ]
    }
   ],
   "source": [
    "state = svi_supervised.init(\n",
    "    random.PRNGKey(seed), \n",
    "    xs=jnp.ones((1,)+img_shape), \n",
    "    ys=jnp.ones((1), dtype=jnp.int32)\n",
    ")"
   ]
  },
  {
   "cell_type": "code",
   "execution_count": 9,
   "metadata": {},
   "outputs": [],
   "source": [
    "loader_supervised = loader_dict[\"supervised\"]"
   ]
  },
  {
   "cell_type": "code",
   "execution_count": 10,
   "metadata": {},
   "outputs": [
    {
     "name": "stdout",
     "output_type": "stream",
     "text": [
      "(10,)\n"
     ]
    }
   ],
   "source": [
    "for batch in loader_supervised:\n",
    "    x, y = batch\n",
    "    state, loss = svi_supervised.update(state, xs=x, ys=y)\n",
    "    break"
   ]
  },
  {
   "cell_type": "code",
   "execution_count": 11,
   "metadata": {},
   "outputs": [
    {
     "name": "stdout",
     "output_type": "stream",
     "text": [
      "4671.792\n"
     ]
    }
   ],
   "source": [
    "print(loss)"
   ]
  },
  {
   "cell_type": "code",
   "execution_count": 12,
   "metadata": {},
   "outputs": [],
   "source": [
    "svi_unsupervised = SVI(ccvae.model_unsupervised, \n",
    "            ccvae.guide_unsupervised, \n",
    "            optim=optimizer, \n",
    "            loss=Trace_ELBO()\n",
    ")"
   ]
  },
  {
   "cell_type": "code",
   "execution_count": 13,
   "metadata": {},
   "outputs": [
    {
     "name": "stderr",
     "output_type": "stream",
     "text": [
      "C:\\Users\\Matthieu Dinot\\AppData\\Local\\Temp\\ipykernel_16500\\784847552.py:1: UserWarning: Currently, SVI with Trace_ELBO loss does not support models with discrete latent variables\n",
      "  state = svi_unsupervised.init(\n"
     ]
    }
   ],
   "source": [
    "state = svi_unsupervised.init(\n",
    "    random.PRNGKey(seed), \n",
    "    xs=jnp.ones((1,)+img_shape)\n",
    ")"
   ]
  },
  {
   "cell_type": "code",
   "execution_count": 14,
   "metadata": {},
   "outputs": [],
   "source": [
    "loader_unsupervised = loader_dict[\"unsupervised\"]"
   ]
  },
  {
   "cell_type": "code",
   "execution_count": 15,
   "metadata": {},
   "outputs": [],
   "source": [
    "for batch in loader_unsupervised:\n",
    "    x = batch\n",
    "    state, loss = svi_unsupervised.update(state, xs=x)\n",
    "    break"
   ]
  },
  {
   "cell_type": "code",
   "execution_count": 16,
   "metadata": {},
   "outputs": [
    {
     "name": "stdout",
     "output_type": "stream",
     "text": [
      "5655.629\n"
     ]
    }
   ],
   "source": [
    "print(loss)"
   ]
  }
 ],
 "metadata": {
  "kernelspec": {
   "display_name": "venv",
   "language": "python",
   "name": "python3"
  },
  "language_info": {
   "codemirror_mode": {
    "name": "ipython",
    "version": 3
   },
   "file_extension": ".py",
   "mimetype": "text/x-python",
   "name": "python",
   "nbconvert_exporter": "python",
   "pygments_lexer": "ipython3",
   "version": "3.11.5"
  }
 },
 "nbformat": 4,
 "nbformat_minor": 2
}
